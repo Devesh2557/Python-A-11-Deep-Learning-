{
  "nbformat": 4,
  "nbformat_minor": 0,
  "metadata": {
    "colab": {
      "provenance": [],
      "authorship_tag": "ABX9TyPOMiRkS8CdMzeG2YpqZgs5"
    },
    "kernelspec": {
      "name": "python3",
      "display_name": "Python 3"
    },
    "language_info": {
      "name": "python"
    }
  },
  "cells": [
    {
      "cell_type": "code",
      "execution_count": 2,
      "metadata": {
        "id": "--RYK0dIJKF7"
      },
      "outputs": [],
      "source": [
        "import spacy"
      ]
    },
    {
      "cell_type": "code",
      "source": [
        "# Exapmle 1"
      ],
      "metadata": {
        "id": "WIjzjYB7Sfjx"
      },
      "execution_count": 3,
      "outputs": []
    },
    {
      "cell_type": "code",
      "source": [
        "text = \"Elon Musk founded SpaceX in California and owns Tesla.\""
      ],
      "metadata": {
        "id": "IMi9XOG0JdjO"
      },
      "execution_count": 4,
      "outputs": []
    },
    {
      "cell_type": "code",
      "source": [
        "nlp = spacy.load(\"en_core_web_sm\")"
      ],
      "metadata": {
        "id": "upBg9cZ0UShc"
      },
      "execution_count": 5,
      "outputs": []
    },
    {
      "cell_type": "code",
      "source": [
        "doc = nlp(text)"
      ],
      "metadata": {
        "id": "q_Q7_W3CJgak"
      },
      "execution_count": 6,
      "outputs": []
    },
    {
      "cell_type": "code",
      "source": [
        "for ent in doc.ents:\n",
        "    print(ent.text, \" → \", ent.label_)"
      ],
      "metadata": {
        "colab": {
          "base_uri": "https://localhost:8080/"
        },
        "id": "PcXmRigmJiOZ",
        "outputId": "ab84d590-8e72-4bd0-f20f-76c0deee37d7"
      },
      "execution_count": 7,
      "outputs": [
        {
          "output_type": "stream",
          "name": "stdout",
          "text": [
            "Elon Musk  →  PERSON\n",
            "California  →  GPE\n",
            "Tesla  →  ORG\n"
          ]
        }
      ]
    },
    {
      "cell_type": "code",
      "source": [
        "# NER Example-2"
      ],
      "metadata": {
        "id": "OUiiliZiTEuu"
      },
      "execution_count": 8,
      "outputs": []
    },
    {
      "cell_type": "code",
      "source": [
        "doc = nlp(\"Narendra Modi was born in Hawaii on September 17, 1950.\")\n",
        "for ent in doc.ents:\n",
        "    print(ent.text, \" → \", ent.label_)"
      ],
      "metadata": {
        "colab": {
          "base_uri": "https://localhost:8080/"
        },
        "id": "d-uMNNqWRzaF",
        "outputId": "d79793db-7a56-4b4c-b9d2-20936606ba66"
      },
      "execution_count": 9,
      "outputs": [
        {
          "output_type": "stream",
          "name": "stdout",
          "text": [
            "Narendra Modi  →  PERSON\n",
            "Hawaii  →  GPE\n",
            "September 17, 1950  →  DATE\n"
          ]
        }
      ]
    },
    {
      "cell_type": "code",
      "source": [
        "# Part-of-Speech Tagging Example-3"
      ],
      "metadata": {
        "id": "nrD4U5AYS2om"
      },
      "execution_count": 10,
      "outputs": []
    },
    {
      "cell_type": "code",
      "source": [
        "doc = nlp(\"The sun is rise.\")\n",
        "\n",
        "for ent in doc:\n",
        "    print(ent.text, \" → \", ent.pos_)   # Determiner(a,an,the)---->Det"
      ],
      "metadata": {
        "colab": {
          "base_uri": "https://localhost:8080/"
        },
        "id": "aDs1HrVvTKlg",
        "outputId": "dd07ca7a-c0b4-4048-dda4-e1fb3e2027f7"
      },
      "execution_count": 11,
      "outputs": [
        {
          "output_type": "stream",
          "name": "stdout",
          "text": [
            "The  →  DET\n",
            "sun  →  NOUN\n",
            "is  →  AUX\n",
            "rise  →  NOUN\n",
            ".  →  PUNCT\n"
          ]
        }
      ]
    },
    {
      "cell_type": "code",
      "source": [
        "# Sentence Segmentation Example-4"
      ],
      "metadata": {
        "id": "Pb1OMzKxTlrf"
      },
      "execution_count": 12,
      "outputs": []
    },
    {
      "cell_type": "code",
      "source": [
        "doc = nlp(\"I am a Data Scientist. GenAI is make it easy!\")\n",
        "\n",
        "for sent in doc.sents:\n",
        "    print(sent.text)"
      ],
      "metadata": {
        "colab": {
          "base_uri": "https://localhost:8080/"
        },
        "id": "D4XYzS4jUEzl",
        "outputId": "d8f07099-ae1e-45f0-8ecc-1a59443aab7d"
      },
      "execution_count": 13,
      "outputs": [
        {
          "output_type": "stream",
          "name": "stdout",
          "text": [
            "I am a Data Scientist.\n",
            "GenAI is make it easy!\n"
          ]
        }
      ]
    },
    {
      "cell_type": "code",
      "source": [],
      "metadata": {
        "id": "bt1OZoz5UFUc"
      },
      "execution_count": 13,
      "outputs": []
    }
  ]
}