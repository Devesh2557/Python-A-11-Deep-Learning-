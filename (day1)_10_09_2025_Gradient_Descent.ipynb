{
  "nbformat": 4,
  "nbformat_minor": 0,
  "metadata": {
    "colab": {
      "provenance": [],
      "authorship_tag": "ABX9TyOySp+IBRwk+Rki2Zpmpor/"
    },
    "kernelspec": {
      "name": "python3",
      "display_name": "Python 3"
    },
    "language_info": {
      "name": "python"
    }
  },
  "cells": [
    {
      "cell_type": "code",
      "source": [
        "# loss function:- distance b/w actual value and predicted value\n",
        "# in terms of regression -----> mse, mae\n",
        "# in terms of classification --->\n",
        "# case :-1: when wwe have 2 sub categories in target column --------> binarycrossentropy\n",
        "# case :2:  when we have more then 2 subcategories in target-column ----> sparsecategoricalcrsooentropy,\n",
        "# categoricalcrossentropy"
      ],
      "metadata": {
        "id": "_s2MSfLIgmBc"
      },
      "execution_count": 4,
      "outputs": []
    },
    {
      "cell_type": "code",
      "source": [
        "# optimization tech:- loss function ko minimize krna"
      ],
      "metadata": {
        "id": "LhB8NZxHhKlU"
      },
      "execution_count": 5,
      "outputs": []
    },
    {
      "cell_type": "code",
      "source": [
        "# (1). Gradient Descent"
      ],
      "metadata": {
        "id": "Wkz15Xr1hmLS"
      },
      "execution_count": 6,
      "outputs": []
    },
    {
      "cell_type": "code",
      "source": [
        "# we have a simple line equation\n",
        "# y = mx+b.....(1)\n",
        "# now we have to calculate loss function w r t m s e\n",
        "# l = 1/n (y_act-y_pred)**2\n",
        "# n = n(features) = 1\n",
        "# L = (y=y_pred)**2\n",
        "# L = (y-(mx+b))**2\n",
        "# L = (y-mx-b)**2  ...........(2)\n",
        "\n",
        "# Equ(2) we will calculate diff. w.r.t. intercept(b)\n",
        "# dl/db = d(y-mx-b)**2/db = 2(y-mx-b)(-1) = -2(y-mx-b)............(3)\n",
        "\n",
        "# Equ(2) we will calculate diff. w.r.t. slope(m)\n",
        "# dl/db = d(y-mx-b)**2/dm = 2(y-mx-b)(-x) = -2x(y-mx-b)............(4)\n",
        "\n",
        "# b_new = b_old - learning_rate * dL/db\n",
        "# m_bew = m_old - learning_rate * dL/dm\n",
        "\n",
        "# Now Equation of new line will be :\n",
        "# y = m_new*X + b_new"
      ],
      "metadata": {
        "id": "jAZjurY7hqkZ"
      },
      "execution_count": null,
      "outputs": []
    }
  ]
}