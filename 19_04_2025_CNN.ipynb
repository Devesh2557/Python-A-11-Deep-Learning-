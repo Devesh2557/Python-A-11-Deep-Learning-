{
  "nbformat": 4,
  "nbformat_minor": 0,
  "metadata": {
    "colab": {
      "provenance": [],
      "authorship_tag": "ABX9TyO0Lo2RRWCbKzuJBURvuEn3"
    },
    "kernelspec": {
      "name": "python3",
      "display_name": "Python 3"
    },
    "language_info": {
      "name": "python"
    }
  },
  "cells": [
    {
      "cell_type": "code",
      "execution_count": 1,
      "metadata": {
        "id": "TSIrAGIuHhUe"
      },
      "outputs": [],
      "source": [
        "# CNN--> Convolutional Neural Networks\n",
        "# It is used for image related processing.\n",
        "\n",
        "# Image ---> pixels-> (0-255)px --->\n",
        "# 0 Px-> black\n",
        "# 255 Px --> white\n",
        "\n",
        "# black & white Images ----> height, width\n",
        "# colorfull Images ---> height, width, color_channel(RGB)\n",
        "# We can convert our images into grayscale images 127.5 px\n",
        "\n",
        "# Im1 = (120,130,3)\n",
        "# Im2 = (130,150,3)\n",
        "# Padding ------> Add zeros in image matrix.\n",
        "# Pre-padding -----> It will add zeros in staring of an matrix.\n",
        "# Post-padding ----> It will add zeros in last of an matrix."
      ]
    },
    {
      "cell_type": "code",
      "source": [
        "import numpy as np"
      ],
      "metadata": {
        "id": "MID4GKfSIanA"
      },
      "execution_count": 2,
      "outputs": []
    },
    {
      "cell_type": "code",
      "source": [
        "a = np.random.randint(1,12,9).reshape(3,3)\n",
        "a"
      ],
      "metadata": {
        "colab": {
          "base_uri": "https://localhost:8080/"
        },
        "id": "D6agE_AAIb60",
        "outputId": "214ddb4d-8602-42cd-ed6d-a641bdebe625"
      },
      "execution_count": 4,
      "outputs": [
        {
          "output_type": "execute_result",
          "data": {
            "text/plain": [
              "array([[ 9,  9,  7],\n",
              "       [ 7,  5,  8],\n",
              "       [ 3,  7, 11]])"
            ]
          },
          "metadata": {},
          "execution_count": 4
        }
      ]
    },
    {
      "cell_type": "code",
      "source": [
        "# Pooling layers ------> This is regularization technique in which it will reduce overfitting\n",
        "# from data.\n",
        "# MaxPooling ------>"
      ],
      "metadata": {
        "id": "AD8qlyA6IiEV"
      },
      "execution_count": 6,
      "outputs": []
    },
    {
      "cell_type": "code",
      "source": [
        "# stride = 1 filter/kernel = (2,2)\n",
        "\n",
        "#step-1 [10,9,6,10] ---> [10] [6]\n",
        "#step-2 [9,6,10,5] ----> [10] [5]\n",
        "#step-3 [6,10,1,11] ---> [11] [1]\n",
        "# step-4 [10,5,11,1] ---> [11] [1]\n",
        "\n",
        "# MaxPooling layer ---> [10,10,11,11]\n",
        "#MinPooling layer ----> [6,5,1,1]\n",
        "# GlobalAveragePooling Layer"
      ],
      "metadata": {
        "id": "ga7N8UIsJL86"
      },
      "execution_count": 7,
      "outputs": []
    },
    {
      "cell_type": "code",
      "source": [
        "# Workflow of CNN ---->\n",
        "\n",
        "# Data Ingestion ----> Data Cleaning and Preprocessing ---->\n",
        "# Model Sequential(\n",
        "    # CNN_layer1,\n",
        "    # CNN_layer2,\n",
        "    # Flatten layer,\n",
        "    # Dense layer\n",
        "# )\n",
        "\n",
        "# Model.compile(loss, optimizers, metrics)\n",
        "# Model.training\n",
        "# Model.Evaluation"
      ],
      "metadata": {
        "id": "bgJDiLB1J3vM"
      },
      "execution_count": null,
      "outputs": []
    }
  ]
}