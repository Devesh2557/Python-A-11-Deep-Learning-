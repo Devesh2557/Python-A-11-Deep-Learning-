{
  "nbformat": 4,
  "nbformat_minor": 0,
  "metadata": {
    "colab": {
      "provenance": []
    },
    "kernelspec": {
      "name": "python3",
      "display_name": "Python 3"
    },
    "language_info": {
      "name": "python"
    }
  },
  "cells": [
    {
      "cell_type": "code",
      "execution_count": 1,
      "metadata": {
        "id": "i4Iq_RU_Mw-o"
      },
      "outputs": [],
      "source": [
        "# Introduction to Deep Learning\n",
        "# (1). when complexity is high ---------> use DL\n",
        "# (2). In ml , we can decide what type of data we are using, what will be the output,\n",
        "# what is the process but in deep learning, we have only input and output data it is using\n",
        "# hidden layers for processing the data so that's why it is considered as 'Respresentative Learning'."
      ]
    },
    {
      "cell_type": "code",
      "source": [
        "# WorkFlow of ML\n",
        "# Data Ingestion -----> Data Cleaning and Preprocessing   ----> Model Training ---> Model Prediction------>\n",
        "# Performance Evaluation"
      ],
      "metadata": {
        "id": "RjmaSQdYSHw7"
      },
      "execution_count": 3,
      "outputs": []
    },
    {
      "cell_type": "code",
      "source": [
        "# WorkFlow of Deep Learning\n",
        "# Data Ingestion------> Data Cleaning and Preprocessing------>\n",
        "# Model Sequential(\n",
        "    # input_layer(Neurons, Activation_function, input_dimension=data.shape),     # activation function:- data k andr non - linearty ko capture krte h\n",
        "    # hidden_layer(Neurons, Activation_function),\n",
        "    # output_layer(Neurons, Activation_function)\n",
        "# )\n",
        "\n",
        "# Model.compile(loss_function, optimizer, metrics) ----->\n",
        "# Model.fit(x_train,y_train) 'model training process'   --->\n",
        "# Model Prediction ----> Calculate(loss function, Accuracy)"
      ],
      "metadata": {
        "id": "hgiHc7cRScHy"
      },
      "execution_count": 4,
      "outputs": []
    },
    {
      "cell_type": "code",
      "source": [
        "# Student_id   (.)x11-------->\n",
        "                            # (.)x21----------->\n",
        "# cgpa         (.)x12-------->                      (.)x31--------->Result(y)\n",
        "                            # (.)x22----------->\n",
        "# resume_score (.)x13-------->  ## Hidden layer         ## Output layer"
      ],
      "metadata": {
        "id": "XEDa_k5pUggi"
      },
      "execution_count": 5,
      "outputs": []
    },
    {
      "cell_type": "code",
      "source": [
        "# Chain Rule\n",
        "# dy/dx1-1 = dy/dx31 * dx31/dx21 * dx21/dx11\n",
        "\n",
        "#dy/dx12 = (dy/dx31 * dx31/dx21 * dx21/dx12) + (dy/dx31* dx31/dx22 * dx22/dx12)\n",
        "\n",
        "#dy/dx13 = (dy/dx31 * dx31/dx21 * dx21/dx13) + (dy/dx31 * dx31/dx22 * dx22/dx13)"
      ],
      "metadata": {
        "id": "oAeI6KGIVQ-n"
      },
      "execution_count": 6,
      "outputs": []
    },
    {
      "cell_type": "code",
      "source": [
        "# .x11\n",
        "#               .x21\n",
        "# .x12                        .x31\n",
        "#               .x22                      .x41(y)\n",
        "# .x13                        .x32\n",
        "#               .x23\n",
        "# .x14"
      ],
      "metadata": {
        "id": "AEdjFcMnXj47"
      },
      "execution_count": 7,
      "outputs": []
    },
    {
      "cell_type": "code",
      "source": [
        "# dy/dx11 = dy/dx41 * dx41/dx31 * dx31/dx21 * dx21/dx11\n",
        "\n",
        "# dy/dx12 = (dy/dx41 * dx41/dx31 * dx31/dx21 * dx21/dx12) + (dy/dx41 * dx41/dx32 * dx32/dx22 * dx22/dx12) + (dy/dx41 * dx41/dx32 * dx32/dx23 * dx23/dx12)\n",
        "\n",
        "# dy/dx13 = (dy/dx41 * dx41/dx31 * dx31/dx21 * dx21/dx13) + (dy/dx41 * dx41/dx31 * dx31/dx22 * dx22/dx13) + (dy/dx41 * dx41/dx32 * dx32/dx23 * dx23/dx13)\n",
        "\n",
        "# dy/dx14 = (dy/dx41 * dx41/dx31 * dx31/dx21 * dx21/dx14) + (dy/dx41 * dx41/dx31 * dx31/dx11 * dx22/dx14) + (dy/dx41 * dx41/dx32 * dx32/dx23 * dx23/dx14)"
      ],
      "metadata": {
        "id": "VuXVIEm2X8uN"
      },
      "execution_count": null,
      "outputs": []
    }
  ]
}